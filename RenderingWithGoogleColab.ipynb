{
  "nbformat": 4,
  "nbformat_minor": 0,
  "metadata": {
    "colab": {
      "private_outputs": true,
      "provenance": [],
      "collapsed_sections": []
    },
    "kernelspec": {
      "name": "python3",
      "display_name": "Python 3"
    },
    "language_info": {
      "name": "python"
    },
    "accelerator": "GPU",
    "gpuClass": "standard"
  },
  "cells": [
    {
      "cell_type": "code",
      "execution_count": null,
      "metadata": {
        "id": "AJcxy9nraCrC"
      },
      "outputs": [],
      "source": [
        "#Download Blender from Repository(Linux) - Run Once unless version changed\n",
        "\n",
        "!wget https://download.blender.org/release/Blender3.2/blender-3.2.0-linux-x64.tar.xz"
      ]
    },
    {
      "cell_type": "code",
      "source": [
        "#Connect Google Drive\n",
        "from google.colab import drive\n",
        "drive.mount('/content/drive')"
      ],
      "metadata": {
        "id": "yHMDBm_ybvIr"
      },
      "execution_count": null,
      "outputs": []
    },
    {
      "cell_type": "code",
      "source": [
        "#Copy Blender to gdrive - Run Once unless version changed \n",
        "!cp /content/blender-3.2.0-linux-x64.tar.xz /content/drive/MyDrive/GoogleColabTutorial/blender-3.2.0-linux-x64.tar.xz"
      ],
      "metadata": {
        "id": "TzLotRQWbvw7"
      },
      "execution_count": null,
      "outputs": []
    },
    {
      "cell_type": "code",
      "source": [
        "#Copy Blender back to Colab\n",
        "!cp /content/drive/MyDrive/GoogleColabTutorial/blender-3.2.0-linux-x64.tar.xz /content/blender-3.2.0-linux-x64.tar.xz"
      ],
      "metadata": {
        "id": "1c_uraKibyOb"
      },
      "execution_count": null,
      "outputs": []
    },
    {
      "cell_type": "code",
      "source": [
        "#install Blender\n",
        "!tar xf blender-3.2.0-linux-x64.tar.xz"
      ],
      "metadata": {
        "id": "R7NQXCJMb0nN"
      },
      "execution_count": null,
      "outputs": []
    },
    {
      "cell_type": "code",
      "source": [
        "#To get rid of possible errors run this\n",
        "import os\n",
        "\n",
        "os.environ[\"LD_PRELOAD\"] = \"\"\n",
        "\n",
        "#Deletes wrong Version of libtcmalloc-minimal4\n",
        "!apt remove libtcmalloc-minimal4\n",
        "#Installs correct version of libtcmalloc-minimal4\n",
        "!apt install libtcmalloc-minimal4\n",
        "\n",
        "#Adds this library to the user environment\n",
        "os.environ[\"LD_PRELOAD\"] = \"/usr/lib/x86_64-linux-gnu/libtcmalloc_minimal.so.4.3.0\""
      ],
      "metadata": {
        "id": "XKxAYGTDb22V"
      },
      "execution_count": null,
      "outputs": []
    },
    {
      "cell_type": "code",
      "source": [
        "#set the paths to your Blender Files\n",
        "filename = '/content/drive/MyDrive/GoogleColabTutorial/BlenderSceneEEVEE1.blend'"
      ],
      "metadata": {
        "id": "GbUVB1Wrb5z3"
      },
      "execution_count": null,
      "outputs": []
    },
    {
      "cell_type": "code",
      "source": [
        "#RenderSettings\n",
        "!./blender-3.2.0-linux-x64/blender $filename -b -noaudio -E 'CYCLES' -o \"/content/drive/MyDrive/GoogleColabTutorial/Renders/EeveeRender_\" -s 01 -e 24 -a -F 'PNG' -- --cycles-device CUDA"
      ],
      "metadata": {
        "id": "lkiGu4edb8k4"
      },
      "execution_count": null,
      "outputs": []
    }
  ]
}